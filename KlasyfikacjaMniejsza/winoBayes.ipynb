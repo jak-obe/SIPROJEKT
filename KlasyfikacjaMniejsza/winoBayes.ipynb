{
 "cells": [
  {
   "cell_type": "code",
   "execution_count": 2,
   "id": "initial_id",
   "metadata": {
    "collapsed": true,
    "ExecuteTime": {
     "end_time": "2024-05-15T08:18:50.426399300Z",
     "start_time": "2024-05-15T08:18:49.770399900Z"
    }
   },
   "outputs": [],
   "source": [
    "from sklearn.naive_bayes import GaussianNB\n",
    "from sklearn.model_selection import train_test_split\n",
    "from sklearn.metrics import accuracy_score, classification_report\n",
    "import pandas as pd\n",
    "from sklearn.model_selection import cross_val_score, StratifiedKFold\n",
    "\n"
   ]
  },
  {
   "cell_type": "code",
   "execution_count": 21,
   "outputs": [
    {
     "name": "stdout",
     "output_type": "stream",
     "text": [
      "class\n",
      "2    71\n",
      "1    59\n",
      "3    48\n",
      "Name: count, dtype: int64\n"
     ]
    }
   ],
   "source": [
    "df = pd.read_csv('wine.data', header=None)\n",
    "df.columns = ['class', 'alcohol', 'Malic acid', 'ash', 'Alcalinity of ash', 'Magnesium', 'Total phenols', 'Flavanoids',\n",
    "              'Nonflavanoid phenols', 'Proanthocyanins', 'Color intensity', 'hue', 'OD280/OD315 of diluted wines',\n",
    "              'proline']\n",
    "# print(df.head())\n",
    "print(df['class'].value_counts())"
   ],
   "metadata": {
    "collapsed": false,
    "ExecuteTime": {
     "end_time": "2024-05-15T08:31:49.335167300Z",
     "start_time": "2024-05-15T08:31:49.317171700Z"
    }
   },
   "id": "1288b9956ca9dcb9"
  },
  {
   "cell_type": "code",
   "execution_count": 22,
   "outputs": [],
   "source": [
    "X = df.drop('class', axis=1)\n",
    "y = df['class']"
   ],
   "metadata": {
    "collapsed": false,
    "ExecuteTime": {
     "end_time": "2024-05-15T08:31:49.914825700Z",
     "start_time": "2024-05-15T08:31:49.906830700Z"
    }
   },
   "id": "63dd4bd921c53f4c"
  },
  {
   "cell_type": "code",
   "execution_count": 23,
   "outputs": [],
   "source": [
    "X_train, X_test, y_train, y_test = train_test_split(X, y, test_size=0.5, random_state=0)\n"
   ],
   "metadata": {
    "collapsed": false,
    "ExecuteTime": {
     "end_time": "2024-05-15T08:31:54.056726100Z",
     "start_time": "2024-05-15T08:31:54.044734100Z"
    }
   },
   "id": "e63e9ce41e9384cb"
  },
  {
   "cell_type": "code",
   "execution_count": 32,
   "outputs": [
    {
     "name": "stdout",
     "output_type": "stream",
     "text": [
      "Accuracy: 0.9438202247191011\n",
      "Classification Report:\n",
      "               precision    recall  f1-score   support\n",
      "\n",
      "           1       0.89      1.00      0.94        25\n",
      "           2       1.00      0.88      0.93        40\n",
      "           3       0.92      1.00      0.96        24\n",
      "\n",
      "    accuracy                           0.94        89\n",
      "   macro avg       0.94      0.96      0.95        89\n",
      "weighted avg       0.95      0.94      0.94        89\n"
     ]
    }
   ],
   "source": [
    "model = GaussianNB()\n",
    "y_pred = model.fit(X_train, y_train)\n",
    "y_pred = model.predict(X_test)\n",
    "\n",
    "accuracy = accuracy_score(y_test, y_pred)\n",
    "report = classification_report(y_test, y_pred)\n",
    "print(\"Accuracy:\", accuracy)\n",
    "print(\"Classification Report:\\n\", report)"
   ],
   "metadata": {
    "collapsed": false,
    "ExecuteTime": {
     "end_time": "2024-05-15T08:36:13.017418600Z",
     "start_time": "2024-05-15T08:36:12.971824700Z"
    }
   },
   "id": "ae53d0a2de9307bf"
  },
  {
   "cell_type": "code",
   "execution_count": 33,
   "outputs": [
    {
     "name": "stdout",
     "output_type": "stream",
     "text": [
      "Cross-Validation Scores: [0.96666667 1.         0.96610169]\n",
      "Average Accuracy: 0.9775894538606403\n"
     ]
    }
   ],
   "source": [
    "cv = StratifiedKFold(n_splits=3, shuffle=True, random_state=42) \n",
    "\n",
    "\n",
    "#to do cross val\n",
    "scores = cross_val_score(model, X, y, cv=cv, scoring='accuracy')\n",
    "print(\"Cross-Validation Scores:\", scores)\n",
    "print(\"Average Accuracy:\", scores.mean())"
   ],
   "metadata": {
    "collapsed": false,
    "ExecuteTime": {
     "end_time": "2024-05-15T08:36:16.245984700Z",
     "start_time": "2024-05-15T08:36:16.187954600Z"
    }
   },
   "id": "d9fcf081b252c4dd"
  },
  {
   "cell_type": "markdown",
   "source": [],
   "metadata": {
    "collapsed": false
   },
   "id": "9f760cc240398830"
  }
 ],
 "metadata": {
  "kernelspec": {
   "display_name": "Python 3",
   "language": "python",
   "name": "python3"
  },
  "language_info": {
   "codemirror_mode": {
    "name": "ipython",
    "version": 2
   },
   "file_extension": ".py",
   "mimetype": "text/x-python",
   "name": "python",
   "nbconvert_exporter": "python",
   "pygments_lexer": "ipython2",
   "version": "2.7.6"
  }
 },
 "nbformat": 4,
 "nbformat_minor": 5
}
